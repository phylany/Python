{
 "cells": [
  {
   "cell_type": "code",
   "execution_count": 9,
   "id": "4d92bea0",
   "metadata": {},
   "outputs": [
    {
     "data": {
      "text/plain": [
       "(1, 2, 3, 'Orange', 4, 5, 'Cherry', 5)"
      ]
     },
     "execution_count": 9,
     "metadata": {},
     "output_type": "execute_result"
    }
   ],
   "source": [
    "# 2. TUPLES\n",
    "# Tuple items are ordered, unchangeable, and allow duplicate values.\n",
    "\n",
    "tuple1 = (1, 2, 3, \"Orange\",4, 5, \"Cherry\", 5)\n",
    "tuple1\n",
    "\n",
    "# Indexing\n",
    "# tuple1[3] = \"Banana\"\n",
    "# tuple1.index(\"Cherry\")"
   ]
  },
  {
   "cell_type": "code",
   "execution_count": 20,
   "id": "148d71ff",
   "metadata": {},
   "outputs": [
    {
     "data": {
      "text/plain": [
       "{'Apple', 'Cherry'}"
      ]
     },
     "execution_count": 20,
     "metadata": {},
     "output_type": "execute_result"
    }
   ],
   "source": [
    "# 3. SETS\n",
    "# Set items are unordered, unchangeable, and do not allow duplicate values.\n",
    "fruit1 = {\"Pineapple\", \"Guava\", \"Lemon\",\"water melon\"}\n",
    "fruit2 = {\"Apple\", \"Cherry\", \"Guava\",\"Lemon\"}\n",
    "\n",
    "# UNION\n",
    "fruit3 = fruit1.union(fruit2)\n",
    "\n",
    "# INTERSECTION\n",
    "fruit_intersect = fruit1.intersection(fruit2)\n",
    "# print(fruit_intersect)\n",
    "\n",
    "# DIFFERENCE\n",
    "fruit_diff1 = fruit1.difference(fruit2)\n",
    "# fruit_diff\n",
    "\n",
    "fruit_diff2 = fruit2.difference(fruit1)\n",
    "fruit_diff2\n",
    "# print(fruit1)\n",
    "# print(fruit2)"
   ]
  },
  {
   "cell_type": "code",
   "execution_count": 27,
   "id": "590b004f",
   "metadata": {},
   "outputs": [
    {
     "name": "stdout",
     "output_type": "stream",
     "text": [
      "This Toyota Highlander car was made in 2005\n"
     ]
    }
   ],
   "source": [
    "# 4. DICTIONARIES\n",
    "car_detail = {\n",
    "  \"brand\": \"Toyota\",\n",
    "  \"model\": \"Highlander\",\n",
    "  \"year\": 2005\n",
    "}\n",
    "\n",
    "# car_detail[\"brand\"]\n",
    "# car_detail[\"year\"]\n",
    "# car_detail[\"model\"]\n",
    "\n",
    "print(f\"This {car_detail['brand']} {car_detail['model']} car was made in {car_detail['year']}\")"
   ]
  },
  {
   "cell_type": "code",
   "execution_count": 30,
   "id": "651f5d1c",
   "metadata": {},
   "outputs": [
    {
     "name": "stdout",
     "output_type": "stream",
     "text": [
      "This Mercedes G- wagon car was made in 2012\n"
     ]
    },
    {
     "data": {
      "text/plain": [
       "{'brand': ['Toyota', 'Mercedes', 'Ford'],\n",
       " 'model': ['Highlander', 'G- wagon', '325'],\n",
       " 'year': [2005, 2009, 2012],\n",
       " 'color': ['Red', 'Black', 'white']}"
      ]
     },
     "execution_count": 30,
     "metadata": {},
     "output_type": "execute_result"
    }
   ],
   "source": [
    "car_detail = {\n",
    "  \"brand\": [\"Toyota\",\"Mercedes\",\"Ford\"],\n",
    "  \"model\": [\"Highlander\",\"G- wagon\", \"325\"],\n",
    "  \"year\": [2005, 2009, 2012]\n",
    "}\n",
    "\n",
    "print(f\"This {car_detail['brand'][1]} {car_detail['model'][1]} car was made in {car_detail['year'][2]}\")\n",
    "\n",
    "car_detail[\"color\"] = [\"Red\", \"Black\", \"white\"]\n",
    "car_detail"
   ]
  },
  {
   "cell_type": "code",
   "execution_count": 33,
   "id": "b67d8d15",
   "metadata": {},
   "outputs": [
    {
     "data": {
      "text/plain": [
       "dict_values([['Toyota', 'Mercedes', 'Ford'], ['Highlander', 'G- wagon', '325'], [2005, 2009, 2012], ['Red', 'Black', 'white']])"
      ]
     },
     "execution_count": 33,
     "metadata": {},
     "output_type": "execute_result"
    }
   ],
   "source": [
    "# items\n",
    "car_detail.items()\n",
    "#  keys\n",
    "car_detail.keys()\n",
    "# values\n",
    "\n",
    "car_detail.values()"
   ]
  },
  {
   "cell_type": "code",
   "execution_count": 38,
   "id": "90a6e591",
   "metadata": {},
   "outputs": [
    {
     "data": {
      "text/plain": [
       "{'brand': ['Toyota', 'Mercedes', 'Ford'],\n",
       " 'model': ['Camry', 'G- wagon', '325'],\n",
       " 'year': [2005, 2009, 2012],\n",
       " 'color': ['Red', 'Black', 'white']}"
      ]
     },
     "execution_count": 38,
     "metadata": {},
     "output_type": "execute_result"
    }
   ],
   "source": [
    "car_detail['model'][0] = \"Camry\"\n",
    "car_detail"
   ]
  },
  {
   "cell_type": "code",
   "execution_count": 39,
   "id": "1de7fb12",
   "metadata": {},
   "outputs": [
    {
     "data": {
      "text/plain": [
       "['Red', 'Black', 'white']"
      ]
     },
     "execution_count": 39,
     "metadata": {},
     "output_type": "execute_result"
    }
   ],
   "source": [
    "# remove items\n",
    "car_detail.pop('color')"
   ]
  },
  {
   "cell_type": "code",
   "execution_count": 40,
   "id": "dc522b06",
   "metadata": {},
   "outputs": [
    {
     "data": {
      "text/plain": [
       "{'brand': ['Toyota', 'Mercedes', 'Ford'],\n",
       " 'model': ['Camry', 'G- wagon', '325'],\n",
       " 'year': [2005, 2009, 2012]}"
      ]
     },
     "execution_count": 40,
     "metadata": {},
     "output_type": "execute_result"
    }
   ],
   "source": [
    "car_detail"
   ]
  },
  {
   "cell_type": "code",
   "execution_count": 41,
   "id": "dfc52731",
   "metadata": {},
   "outputs": [
    {
     "name": "stdout",
     "output_type": "stream",
     "text": [
      "5 is greater than 3\n"
     ]
    }
   ],
   "source": [
    "# CONDITIONAL STATEMENTS\n",
    "a = 3\n",
    "b = 5\n",
    "\n",
    "if a > b:\n",
    "    print(f\"{a} is greater than {b}\")\n",
    "else:\n",
    "    print(f\"{b} is greater than {a}\")\n",
    "# Indentation\n",
    "\n",
    "# Python relies on indentation (whitespace at the beginning of a line) \n",
    "# to define scope in the code. Other programming languages often use\n",
    "# curly-brackets for this purpose."
   ]
  },
  {
   "cell_type": "code",
   "execution_count": 44,
   "id": "9d4de249",
   "metadata": {},
   "outputs": [
    {
     "name": "stdout",
     "output_type": "stream",
     "text": [
      "My name is not Sam\n"
     ]
    }
   ],
   "source": [
    "studentsInformation = {\n",
    "    \"Name\" : [\"Joel\", \"Sam\", \"Mike\"],\n",
    "    \"Age\" : [12, 20, 16],\n",
    "    \"Subject\" : [\"PHE\", \"F. Maths\", \"Economics\"]\n",
    "}\n",
    "\n",
    "studentsInformation\n",
    "\n",
    "# if function to check the students info\n",
    "\n",
    "if studentsInformation[\"Name\"][1] == \"Dan.\":\n",
    "    print(f\"My name is {studentsInformation['Name'][1]}\")\n",
    "else:\n",
    "    print(f\"My name is not {studentsInformation['Name'][1]}\")"
   ]
  },
  {
   "cell_type": "code",
   "execution_count": 46,
   "id": "5b54e39f",
   "metadata": {},
   "outputs": [
    {
     "name": "stdout",
     "output_type": "stream",
     "text": [
      "Yooooo..........\n"
     ]
    }
   ],
   "source": [
    "# AND\n",
    "score1 = 20\n",
    "score2 = 50\n",
    "score3 = 25\n",
    "\n",
    "if score1 < 20 and score2 > 20:\n",
    "    print(\"Hellooooooo............\")\n",
    "    \n",
    "elif score2 > 30 and score3 < 30:\n",
    "    print(\"Yooooo..........\")\n",
    "    \n",
    "else:\n",
    "    print(\"Hi..........\")\n",
    "    \n",
    "# ASSIGNMENT\n",
    "# Write an if statement that asks for the user's name via input() function. \n",
    "# If the name is \"Bond\" make it print \"Welcome on board 007.\n",
    "# \" Otherwise make it print \"Good morning NAME\". (Replace Name with user's name)"
   ]
  },
  {
   "cell_type": "code",
   "execution_count": 54,
   "id": "0078ad4b",
   "metadata": {},
   "outputs": [
    {
     "name": "stdout",
     "output_type": "stream",
     "text": [
      "10\n",
      "20\n",
      "30\n",
      "40\n"
     ]
    }
   ],
   "source": [
    "# WHILE LOOPS\n",
    "# With the while loop we can execute a set of statements as long as a\n",
    "# condition is true.\n",
    "# values = list(range(1,101))\n",
    "\n",
    "i = 10\n",
    "while i < 50:\n",
    "    print(i)\n",
    "    i += 10\n",
    "\n",
    "# CONTINUE AND BREAK STATEMENT "
   ]
  },
  {
   "cell_type": "code",
   "execution_count": 63,
   "id": "fa4dd4f3",
   "metadata": {},
   "outputs": [
    {
     "name": "stdout",
     "output_type": "stream",
     "text": [
      "10\n",
      "20\n",
      "30 is equals to 30\n",
      "30\n",
      "40\n"
     ]
    }
   ],
   "source": [
    "i = 10\n",
    "while i < 50:\n",
    "    if i == 30:\n",
    "        print(f\"{i} is equals to 30\")\n",
    "    print(i)\n",
    "    i += 10\n",
    "\n",
    "    \n",
    "# Break and continue statement"
   ]
  },
  {
   "cell_type": "code",
   "execution_count": 67,
   "id": "75439ab8",
   "metadata": {},
   "outputs": [
    {
     "name": "stdout",
     "output_type": "stream",
     "text": [
      "10\n",
      "20\n"
     ]
    }
   ],
   "source": [
    "i = 10\n",
    "while i < 50:\n",
    "    print(i)\n",
    "    i += 10\n",
    "    if i == 30:\n",
    "        break"
   ]
  },
  {
   "cell_type": "code",
   "execution_count": 68,
   "id": "79c535e1",
   "metadata": {},
   "outputs": [
    {
     "name": "stdout",
     "output_type": "stream",
     "text": [
      "10\n",
      "20\n"
     ]
    },
    {
     "ename": "KeyboardInterrupt",
     "evalue": "",
     "output_type": "error",
     "traceback": [
      "\u001b[1;31m---------------------------------------------------------------------------\u001b[0m",
      "\u001b[1;31mKeyboardInterrupt\u001b[0m                         Traceback (most recent call last)",
      "Cell \u001b[1;32mIn[68], line 4\u001b[0m\n\u001b[0;32m      2\u001b[0m \u001b[38;5;28;01mwhile\u001b[39;00m i \u001b[38;5;241m<\u001b[39m \u001b[38;5;241m50\u001b[39m:\n\u001b[0;32m      3\u001b[0m     \u001b[38;5;28;01mif\u001b[39;00m i \u001b[38;5;241m==\u001b[39m \u001b[38;5;241m30\u001b[39m:\n\u001b[1;32m----> 4\u001b[0m         \u001b[38;5;28;01mcontinue\u001b[39;00m\n\u001b[0;32m      5\u001b[0m     \u001b[38;5;28mprint\u001b[39m(i)\n\u001b[0;32m      6\u001b[0m     i \u001b[38;5;241m+\u001b[39m\u001b[38;5;241m=\u001b[39m \u001b[38;5;241m10\u001b[39m\n",
      "\u001b[1;31mKeyboardInterrupt\u001b[0m: "
     ]
    }
   ],
   "source": [
    "i = 10\n",
    "while i < 50:\n",
    "    if i == 30:\n",
    "        continue\n",
    "    print(i)\n",
    "    i += 10\n",
    "    "
   ]
  },
  {
   "cell_type": "code",
   "execution_count": 2,
   "id": "1243c947",
   "metadata": {
    "scrolled": true
   },
   "outputs": [
    {
     "data": {
      "text/plain": [
       "'\\nA for loop is used for iterating over a sequence (that is either a list,\\na tuple, a dictionary, a set, or a string).This is less like the for keyword\\nin other programming languages, and works more like an iterator method\\nas found in other object-orientated programming languages.\\nWith the for loop we can execute a set of statements, once for each item\\nin a list, tuple, set etc.\\n'"
      ]
     },
     "execution_count": 2,
     "metadata": {},
     "output_type": "execute_result"
    }
   ],
   "source": [
    "# LOOPS\n",
    "\n",
    "# FOR LOOPS\n",
    "\"\"\"\n",
    "A for loop is used for iterating over a sequence (that is either a list,\n",
    "a tuple, a dictionary, a set, or a string).This is less like the for keyword\n",
    "in other programming languages, and works more like an iterator method\n",
    "as found in other object-orientated programming languages.\n",
    "With the for loop we can execute a set of statements, once for each item\n",
    "in a list, tuple, set etc.\n",
    "\"\"\"\n",
    "\n",
    "\n",
    "# CONTINUE AND BREAK STATEMENT "
   ]
  },
  {
   "cell_type": "code",
   "execution_count": null,
   "id": "5f419e86",
   "metadata": {},
   "outputs": [],
   "source": [
    "# INTRODUCTION TO FUNCTIONS\n",
    "\"\"\"\n",
    "A function is a block of code which only runs when it is called.\n",
    "You can pass data, known as parameters, into a function.\n",
    "A function can return data as a result.\"\"\""
   ]
  }
 ],
 "metadata": {
  "kernelspec": {
   "display_name": "Python 3 (ipykernel)",
   "language": "python",
   "name": "python3"
  },
  "language_info": {
   "codemirror_mode": {
    "name": "ipython",
    "version": 3
   },
   "file_extension": ".py",
   "mimetype": "text/x-python",
   "name": "python",
   "nbconvert_exporter": "python",
   "pygments_lexer": "ipython3",
   "version": "3.10.9"
  }
 },
 "nbformat": 4,
 "nbformat_minor": 5
}
