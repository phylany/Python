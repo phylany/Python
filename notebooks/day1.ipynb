{
 "cells": [
  {
   "cell_type": "code",
   "execution_count": 4,
   "id": "2f8b5e0a",
   "metadata": {},
   "outputs": [
    {
     "data": {
      "text/plain": [
       "'raheem'"
      ]
     },
     "execution_count": 4,
     "metadata": {},
     "output_type": "execute_result"
    }
   ],
   "source": [
    "# STRING CONCATENATION\n",
    "\n",
    "name = \"Abdulraheem\"\n",
    "type(name)\n",
    "name[5:]"
   ]
  },
  {
   "cell_type": "code",
   "execution_count": 12,
   "id": "3f0b4d01",
   "metadata": {},
   "outputs": [
    {
     "data": {
      "text/plain": [
       "'raheem'"
      ]
     },
     "execution_count": 12,
     "metadata": {},
     "output_type": "execute_result"
    }
   ],
   "source": [
    "name[-6:]"
   ]
  },
  {
   "cell_type": "code",
   "execution_count": 16,
   "id": "9d8fb26e",
   "metadata": {},
   "outputs": [
    {
     "name": "stdout",
     "output_type": "stream",
     "text": [
      "My name is Joe Quwam\n"
     ]
    }
   ],
   "source": [
    "first_name = \"Joe\"\n",
    "last_name = 'Quwam'\n",
    "\n",
    "print(\"My name is \" + first_name+\" \"+last_name)"
   ]
  },
  {
   "cell_type": "code",
   "execution_count": 23,
   "id": "a20b3e6b",
   "metadata": {},
   "outputs": [
    {
     "name": "stdout",
     "output_type": "stream",
     "text": [
      "False\n",
      "True\n",
      "False\n"
     ]
    },
    {
     "data": {
      "text/plain": [
       "True"
      ]
     },
     "execution_count": 23,
     "metadata": {},
     "output_type": "execute_result"
    }
   ],
   "source": [
    "# BOOLEAN \n",
    "\"\"\"\n",
    "In programming you often need to know if an expression is True \n",
    "or False. You can evaluate any expression in Python, and get \n",
    "one of two answers, True or False.\"\"\"\n",
    "\n",
    "number1 = 5\n",
    "number2 = 10\n",
    "\n",
    "print(number1 > number2)\n",
    "print(number2 > number1)\n",
    "print(number1 == number2)"
   ]
  },
  {
   "cell_type": "code",
   "execution_count": 75,
   "id": "ff309b84",
   "metadata": {},
   "outputs": [
    {
     "name": "stdout",
     "output_type": "stream",
     "text": [
      "False\n"
     ]
    }
   ],
   "source": [
    "# OPERATORS\n",
    "\"\"\"\n",
    "Python divides the operators in the following groups:\n",
    "\n",
    "// = FLOOR DIVISION\n",
    "** = EXPONENTIAL\n",
    "\n",
    "Arithmetic operators (+, -, /,*, **, //)\n",
    "Assignment operators (=, -=, +=, *=)\n",
    "Comparison operators (==, >=, <=, >, <, !=)\n",
    "Logical operators (AND, OR, NOT)\n",
    "T AND T = T, T AND F = F, F AND T = F, F AND F = F\n",
    "T OR F = T, F OR T = T, T OR T = T, F OR F = F\n",
    "NOT F = T, NOT T = F\n",
    "Identity operators (IS, IS NOT)\n",
    "Membership operators (IN, NOT IN)\n",
    "Bitwise operators (|, &)\n",
    "| = PIPE / OR\n",
    "\"\"\"\n",
    "\n",
    "a = 20\n",
    "b = 9\n",
    "c = 15\n",
    "\n",
    "print(False | False)\n"
   ]
  },
  {
   "cell_type": "code",
   "execution_count": 79,
   "id": "bfa38a2c",
   "metadata": {},
   "outputs": [
    {
     "data": {
      "text/plain": [
       "-61.25"
      ]
     },
     "execution_count": 79,
     "metadata": {},
     "output_type": "execute_result"
    }
   ],
   "source": [
    "# PEMDAS (Parenthesis,Exponential,Multiplication,Division,Addition,Substraction)\n",
    "\n",
    "# 190*(35+6-5)/90**2"
   ]
  },
  {
   "cell_type": "code",
   "execution_count": 95,
   "id": "e9ad8385",
   "metadata": {
    "scrolled": true
   },
   "outputs": [
    {
     "name": "stdout",
     "output_type": "stream",
     "text": [
      "What is your name : Will\n",
      "Your Occupation ? Lawyer\n",
      "How many years of experience did you have ? 4\n",
      "\n",
      "My name is Will, i am Lawyer, \n",
      "and i have 4 years of experience\n"
     ]
    }
   ],
   "source": [
    "# STRING FORMATTING \n",
    "# f - string\n",
    "\n",
    "name = \"Quwam\"\n",
    "occupation = \"Artisan\"\n",
    "\n",
    "# print(f\"My name is {name} and i am a {occupation}\")\n",
    "\n",
    "# STRING FORMATING WITH THE INPUT FUNCTION\n",
    "user_name = input(\"What is your name : \")\n",
    "user_occupation = input(\"Your Occupation ? \")\n",
    "user_years_exp = int(input(\"How many years of experience did you have ? \"))\n",
    "\n",
    "print()\n",
    "print(f\"\"\"My name is {user_name}, i am {user_occupation}, \n",
    "and i have {user_years_exp} years of experience\"\"\")\n",
    "\n",
    "\n",
    "# ASSIGNMENT\n",
    "\n",
    "# USE THE INPUT FUNCTION TO REQUEST FOR USER'S INFO(NAME, AGE, SCHOOL) AND USE\n",
    "# THOSE INFORMATION TO CREATE A SENTENCE. NB:DON'T FORGET TO USE THE F-STRINGS"
   ]
  },
  {
   "cell_type": "code",
   "execution_count": 145,
   "id": "c09554c5",
   "metadata": {},
   "outputs": [
    {
     "ename": "NameError",
     "evalue": "name 'number2' is not defined",
     "output_type": "error",
     "traceback": [
      "\u001b[1;31m---------------------------------------------------------------------------\u001b[0m",
      "\u001b[1;31mNameError\u001b[0m                                 Traceback (most recent call last)",
      "Cell \u001b[1;32mIn[145], line 58\u001b[0m\n\u001b[0;32m     55\u001b[0m \u001b[38;5;66;03m# numbers\u001b[39;00m\n\u001b[0;32m     57\u001b[0m \u001b[38;5;28;01mdel\u001b[39;00m number2\n\u001b[1;32m---> 58\u001b[0m \u001b[43mnumber2\u001b[49m\n",
      "\u001b[1;31mNameError\u001b[0m: name 'number2' is not defined"
     ]
    }
   ],
   "source": [
    "# DATA TYPE\n",
    "\n",
    "# 1. LISTS\n",
    "# List items are ordered, changeable, and allow duplicate values.\n",
    "listofvalues = [True,1,2,\"jane\",True,30.6]\n",
    "\n",
    "# listofvalues[-1] = 90.4\n",
    "# listofvalues\n",
    "\n",
    "# APPEND\n",
    "fruits = [\"Apple\", \"Cherry\", \"Mango\"]\n",
    "fruits.append(\"Pineapple\")\n",
    "fruits.append(10)\n",
    "\n",
    "\n",
    "# EXTEND\n",
    "fruits2 = [\"Pawpaw\", \"Guava\", \"Water Melon\"]\n",
    "# fruits = fruits.extend(fruits2)\n",
    "# fruits\n",
    "\n",
    "# INSERT\n",
    "# fruits.insert(2,\"Orange\")\n",
    "\n",
    "# SORT IN ASCENDING ORDER\n",
    "fruits[-1] = \"PawPaw\"\n",
    "fruits.sort()\n",
    "fruits\n",
    "\n",
    "# SORT IN DESCENDING ORDER\n",
    "numbers = [23, 56, 87, 12, 43]\n",
    "numbers.sort(reverse=True)\n",
    "numbers\n",
    "\n",
    "# COPY\n",
    "number2 = numbers.copy()\n",
    "# print(number2)\n",
    "# print(numbers)\n",
    "\n",
    "# POP METHOD WITHOUT ARGUMENTS\n",
    "numbers.pop()\n",
    "numbers\n",
    "\n",
    "# POP METHOD WITH ARGUMENTS\n",
    "numbers.pop(1)\n",
    "numbers\n",
    "\n",
    "# CLEAR\n",
    "numbers.clear()\n",
    "numbers.append(4)\n",
    "numbers.clear()\n",
    "numbers\n",
    "\n",
    "# DELETE\n",
    "del numbers\n",
    "# numbers\n",
    "\n",
    "del number2\n",
    "number2"
   ]
  },
  {
   "cell_type": "code",
   "execution_count": 109,
   "id": "9ac073c7",
   "metadata": {},
   "outputs": [
    {
     "name": "stdout",
     "output_type": "stream",
     "text": [
      "15\n",
      "26\n"
     ]
    }
   ],
   "source": [
    "print(10 + 5)\n",
    "print(20 + 6)"
   ]
  },
  {
   "cell_type": "code",
   "execution_count": null,
   "id": "ba13c439",
   "metadata": {},
   "outputs": [],
   "source": [
    "# 2. TUPLES\n",
    "# Tuple items are ordered, unchangeable, and allow duplicate values."
   ]
  },
  {
   "cell_type": "code",
   "execution_count": null,
   "id": "1e41f7ea",
   "metadata": {},
   "outputs": [],
   "source": [
    "# 3. SETS\n",
    "# Set items are unordered, unchangeable, and do not allow duplicate values."
   ]
  }
 ],
 "metadata": {
  "kernelspec": {
   "display_name": "Python 3 (ipykernel)",
   "language": "python",
   "name": "python3"
  },
  "language_info": {
   "codemirror_mode": {
    "name": "ipython",
    "version": 3
   },
   "file_extension": ".py",
   "mimetype": "text/x-python",
   "name": "python",
   "nbconvert_exporter": "python",
   "pygments_lexer": "ipython3",
   "version": "3.10.9"
  }
 },
 "nbformat": 4,
 "nbformat_minor": 5
}
