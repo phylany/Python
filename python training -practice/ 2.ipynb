{
 "cells": [
  {
   "cell_type": "code",
   "execution_count": 7,
   "id": "d89ffca1",
   "metadata": {},
   "outputs": [
    {
     "name": "stdout",
     "output_type": "stream",
     "text": [
      "Good morning Name\n"
     ]
    }
   ],
   "source": [
    "userName= {\n",
    "\"Name\":[\"Funmi\", \"Omolayo\", \"Daniel\", \"Olufemi\", \"Murewa\",\"Bond\"],\n",
    "\"Age\" : [\"12\", \"14\", \"18\", \"20\", \"19\", \"21\"]\n",
    "}\n",
    "\n",
    "if userName[\"Name\"][1] ==\"Bond\":\n",
    "    print (\"Welcome on board 007\")\n",
    "else:\n",
    "    print(\"Good morning Name\")\n",
    "    \n",
    "    "
   ]
  },
  {
   "cell_type": "code",
   "execution_count": null,
   "id": "0e4f9fe5",
   "metadata": {},
   "outputs": [],
   "source": [
    "\n",
    "\n",
    "\n",
    "\n",
    "\n"
   ]
  },
  {
   "cell_type": "code",
   "execution_count": 3,
   "id": "7f92eac8",
   "metadata": {},
   "outputs": [
    {
     "name": "stdout",
     "output_type": "stream",
     "text": [
      "Mango\n",
      "Orange\n",
      "Banana\n",
      "Apple\n",
      "Pawpaw\n"
     ]
    }
   ],
   "source": [
    "# for Loop\n",
    "\n",
    "Fruits = [\"Mango\", \"Orange\", \"Banana\",\"Apple\",\"Pawpaw\"]\n",
    "\n",
    "for f in Fruits:\n",
    "    print(f)"
   ]
  },
  {
   "cell_type": "code",
   "execution_count": 15,
   "id": "62434b57",
   "metadata": {},
   "outputs": [],
   "source": [
    "Numbers = [1,10,5,17,18,22,40,45,67,73]\n",
    "#Numbers\n",
    "\n",
    "#for num in Numbers:\n",
    "   # num +=2\n",
    "   # print(num)\n",
    " \n",
    "#for no in Numbers:\n",
    "    #if no % 2 ==0:\n",
    "        #print(no)\n",
    "        \n",
    "#for no in Numbers:\n",
    "    #if no % 2 !=0:\n",
    "        #print(no)       \n",
    "    \n",
    "            \n",
    "    "
   ]
  },
  {
   "cell_type": "code",
   "execution_count": 26,
   "id": "b31940c5",
   "metadata": {},
   "outputs": [],
   "source": [
    "# Break statement\n",
    "\n",
    "#Numbers = [1,10,5,17,18,22,40,45,67,73]\n",
    "#for num in Numbers:\n",
    "    #print(num)\n",
    "    #if num ==40:\n",
    "           # break\n",
    " \n"
   ]
  },
  {
   "cell_type": "code",
   "execution_count": 31,
   "id": "d61d0779",
   "metadata": {},
   "outputs": [
    {
     "name": "stdout",
     "output_type": "stream",
     "text": [
      "toluwamimi\n",
      "Yewande\n",
      "Omolola\n"
     ]
    }
   ],
   "source": [
    "names = [\"toluwamimi\", \"Yewande\", \"Omolola\", \"Iremide\"]\n",
    "\n",
    "#for n in names:\n",
    "    #print(n)\n",
    "    #if n ==\"Omolola\":\n",
    "        #break\n",
    "        "
   ]
  },
  {
   "cell_type": "code",
   "execution_count": 52,
   "id": "42c803c9",
   "metadata": {},
   "outputs": [],
   "source": [
    "#CREATE FUNCTIONS\n",
    "\n",
    "def Student(name =\"Dolapo\"):\n",
    "    print(f'The Student is {name}')\n",
    "    "
   ]
  },
  {
   "cell_type": "code",
   "execution_count": 53,
   "id": "1aa6798f",
   "metadata": {},
   "outputs": [
    {
     "name": "stdout",
     "output_type": "stream",
     "text": [
      "The Student is Toluwa\n"
     ]
    }
   ],
   "source": [
    "Student(name=\"Toluwa\")"
   ]
  },
  {
   "cell_type": "code",
   "execution_count": 54,
   "id": "53e31fd3",
   "metadata": {},
   "outputs": [
    {
     "name": "stdout",
     "output_type": "stream",
     "text": [
      "The Student is Wale\n"
     ]
    }
   ],
   "source": [
    "Student(\"Wale\")"
   ]
  },
  {
   "cell_type": "code",
   "execution_count": 56,
   "id": "1a9ff680",
   "metadata": {},
   "outputs": [],
   "source": [
    "def greet(name,Age):\n",
    "    print(f\"Good morning, my name is {name} and I am {Age} years old\" )\n"
   ]
  },
  {
   "cell_type": "code",
   "execution_count": 57,
   "id": "1f01594c",
   "metadata": {},
   "outputs": [
    {
     "name": "stdout",
     "output_type": "stream",
     "text": [
      "Good morning, my name is Tomisin and I am 15 years old\n"
     ]
    }
   ],
   "source": [
    "greet(\"Tomisin\" , 15)"
   ]
  },
  {
   "cell_type": "code",
   "execution_count": 62,
   "id": "8a949755",
   "metadata": {},
   "outputs": [],
   "source": [
    "# CREATE A FUNCTION FOR EVEN AND ODD NUMBER\n",
    "\n",
    "def check_numbers(num):\n",
    "    if num % 2 == 0:\n",
    "        print(f\" {num} is an even number\")\n",
    "    else:\n",
    "        print(f\"{num} is an odd number\")\n",
    "       \n",
    "    "
   ]
  },
  {
   "cell_type": "code",
   "execution_count": 63,
   "id": "4fbf80a1",
   "metadata": {},
   "outputs": [
    {
     "name": "stdout",
     "output_type": "stream",
     "text": [
      "37 is an odd number\n"
     ]
    }
   ],
   "source": [
    "check_numbers(37)"
   ]
  },
  {
   "cell_type": "code",
   "execution_count": 72,
   "id": "93733163",
   "metadata": {},
   "outputs": [],
   "source": [
    "def check_numbers(num):\n",
    "    if num % 2 == 0 and num > 30:\n",
    "        print(f\" {num} is an even number and greater than 30\")\n",
    "    else:\n",
    "        print(f\"{num} does not meet the specified condition\")"
   ]
  },
  {
   "cell_type": "code",
   "execution_count": 70,
   "id": "7b3c0251",
   "metadata": {},
   "outputs": [
    {
     "name": "stdout",
     "output_type": "stream",
     "text": [
      " 58 is an even number and greater than 30\n"
     ]
    }
   ],
   "source": [
    "check_numbers(58)"
   ]
  },
  {
   "cell_type": "code",
   "execution_count": 73,
   "id": "72b03600",
   "metadata": {},
   "outputs": [
    {
     "name": "stdout",
     "output_type": "stream",
     "text": [
      "22 does not meet the specified condition\n"
     ]
    }
   ],
   "source": [
    "check_numbers(22)"
   ]
  },
  {
   "cell_type": "code",
   "execution_count": 82,
   "id": "61956b01",
   "metadata": {},
   "outputs": [
    {
     "name": "stdout",
     "output_type": "stream",
     "text": [
      "11\n"
     ]
    }
   ],
   "source": [
    "# LOCAL VARIABLES AND GLOBAL VARIABLE\n",
    "\n",
    "# LOCAL VARIABLES ARE VARIABLES SPECIFIED INSIDE THE FUNCTION AND CAN ONLY BE USED WITHIN THE FUNCTION ONLT\n",
    "#GLOBAL VARIABLE ARE VARIABLE SPECIFIED OUTSIDE THE FUNCTION AND CAN BE USED OUTSIDE THE FUNCTION\n",
    "\n",
    "#LOCAL VARIABLE\n",
    "def add_number():\n",
    "    a = 5\n",
    "    b = 6\n",
    "    c = a + b\n",
    "    \n",
    "    print(c)\n",
    "\n",
    "add_number()"
   ]
  },
  {
   "cell_type": "code",
   "execution_count": 87,
   "id": "ef41b394",
   "metadata": {},
   "outputs": [
    {
     "name": "stdout",
     "output_type": "stream",
     "text": [
      "11\n"
     ]
    }
   ],
   "source": [
    "#GLOBAL VARIABLE\n",
    "a = 5\n",
    "b = 6\n",
    "c = a + b\n",
    "def add_number():\n",
    "    print(c)\n",
    "\n",
    "add_number()\n",
    "    "
   ]
  },
  {
   "cell_type": "code",
   "execution_count": 43,
   "id": "388708a3",
   "metadata": {},
   "outputs": [
    {
     "name": "stdout",
     "output_type": "stream",
     "text": [
      "27\n"
     ]
    }
   ],
   "source": [
    "# WRITE A FUNCTION TO SUM NUMBER IN ALIST \n",
    "\n",
    "# Method 1- using general function\n",
    "def sum_numbers(numbers):\n",
    "       print(sum(numbers))\n",
    "        \n",
    "sum_numbers([2,3,4,5,6,7])\n",
    "        \n",
    "\n",
    "# method 2 -using Global function\n",
    "#list_of_numbers =[1,2,3,4,7,8,9]\n",
    "#def sum_list1():\n",
    "   # print(sum(list_of_numbers))\n",
    "    \n",
    "#sum_list1()  \n",
    "\n",
    "    \n",
    "#method 3-using Local function\n",
    "#def sum_numbers():\n",
    "    #list_of_numbers=[1,2,5,6,10,15]\n",
    "    #print(sum(list_of_numbers))\n",
    "    \n",
    "#sum_numbers()"
   ]
  },
  {
   "cell_type": "code",
   "execution_count": 95,
   "id": "f2c381a6",
   "metadata": {},
   "outputs": [
    {
     "name": "stdout",
     "output_type": "stream",
     "text": [
      "24\n"
     ]
    }
   ],
   "source": [
    "# TO PERFORM MULTIPLICATION FUNCTION, - \n",
    "# import Numpy library\n",
    "\n",
    "import numpy as np\n",
    "\n",
    "def multiple_numbers(numbers):\n",
    "    print(np.prod(numbers))\n",
    "    \n",
    "multiple_numbers([3,4,2])\n"
   ]
  },
  {
   "cell_type": "code",
   "execution_count": 49,
   "id": "d316b2d2",
   "metadata": {},
   "outputs": [
    {
     "data": {
      "text/plain": [
       "28"
      ]
     },
     "execution_count": 49,
     "metadata": {},
     "output_type": "execute_result"
    }
   ],
   "source": [
    "#TO MULTIPY A PARTICULAR NUMBER FROM TWO OF MORE LIST\n",
    "\n",
    "List1 = [4,5,3,0,6]\n",
    "List2 = [2,1,5,7,10]\n",
    "\n",
    "List1 [0]* List2 [3]\n"
   ]
  },
  {
   "cell_type": "code",
   "execution_count": 56,
   "id": "cbb851bf",
   "metadata": {},
   "outputs": [
    {
     "data": {
      "text/plain": [
       "('Tolu', 'Kolade')"
      ]
     },
     "execution_count": 56,
     "metadata": {},
     "output_type": "execute_result"
    }
   ],
   "source": [
    "# RETURN FUNCTION - string from two lists\n",
    "\n",
    "def list():\n",
    "    List1 =[\"Tolu\", \"Yemi\", \"Adeola\", \"Ijiwade\"]\n",
    "    List2= [\"Adewale\", \"Toyin\", \"Kolade\", \"Ogunye\"]\n",
    "\n",
    "    return List1[0], List2[2]\n",
    "\n",
    "list()"
   ]
  },
  {
   "cell_type": "code",
   "execution_count": 62,
   "id": "6032aec4",
   "metadata": {},
   "outputs": [
    {
     "data": {
      "text/plain": [
       "50"
      ]
     },
     "execution_count": 62,
     "metadata": {},
     "output_type": "execute_result"
    }
   ],
   "source": [
    "# RETURN FUNCTION - number\n",
    "\n",
    "def number():\n",
    "    x=5\n",
    "    y=10\n",
    "    z=x*y\n",
    "    return z\n",
    "\n",
    "number()\n",
    "\n"
   ]
  },
  {
   "cell_type": "code",
   "execution_count": 77,
   "id": "7dd17ee3",
   "metadata": {},
   "outputs": [
    {
     "name": "stdout",
     "output_type": "stream",
     "text": [
      "2\n",
      "10\n",
      "6\n"
     ]
    }
   ],
   "source": [
    "#LIST OF EVEN NUMBERS - VIA LOOPING & CONDITIONAL STATEMENT\n",
    "\n",
    "def even_numbers(numbers):\n",
    "    for i in numbers:\n",
    "          if i % 2 == 0:\n",
    "                print (i)\n",
    "        \n",
    "even_numbers ([3,2,10,6,13])"
   ]
  },
  {
   "cell_type": "code",
   "execution_count": 78,
   "id": "86a70ba8",
   "metadata": {},
   "outputs": [
    {
     "name": "stdout",
     "output_type": "stream",
     "text": [
      "3\n",
      "13\n"
     ]
    }
   ],
   "source": [
    "#LIST OF ODD NUMBERS - VIA LOOPING & CONDITIONAL STATEMENT\n",
    "\n",
    "def odd_numbers(numbers):\n",
    "    for i in numbers:\n",
    "          if i % 2 != 0:\n",
    "                print (i)\n",
    "        \n",
    "odd_numbers ([3,2,10,6,13])\n",
    "\n",
    "\n",
    "# if return function is used , it will only return nly one variable. so, it is better to use \"print\""
   ]
  },
  {
   "cell_type": "code",
   "execution_count": 91,
   "id": "51f133e6",
   "metadata": {},
   "outputs": [
    {
     "data": {
      "text/plain": [
       "'madam'"
      ]
     },
     "execution_count": 91,
     "metadata": {},
     "output_type": "execute_result"
    }
   ],
   "source": [
    "# PYTHON STATEMENT THAT CHECKSPALINDRONE STATEMENT\n",
    "#Palindrone word, phrase or sequence that read the same backward or forward. e.g madam, peep, poop, mom\n",
    "\n",
    "# To print the word backward\n",
    "# you need to incude the double colon\n",
    "word = \"kayak\"\n",
    "word[::-1]\n",
    "\n",
    "# To print the word forward\n",
    "word = \"madam\"\n",
    "word [0:]\n",
    "\n",
    "# check if the word is palindrone\n",
    "# forward = print\n",
    "\n",
    "def check_palindrone(word):\n",
    "    if word [0:] == word[::-1]:\n",
    "        return (word)\n",
    "    \n",
    "\n",
    "\n",
    "check_palindrone(\"madam\")  \n"
   ]
  },
  {
   "cell_type": "code",
   "execution_count": 99,
   "id": "cd629c27",
   "metadata": {},
   "outputs": [
    {
     "data": {
      "text/plain": [
       "float"
      ]
     },
     "execution_count": 99,
     "metadata": {},
     "output_type": "execute_result"
    }
   ],
   "source": [
    "# To get type of data input\n",
    "\n",
    "def Data_type(value):\n",
    "    return type(value)\n",
    "\n",
    "Data_type(55.6)"
   ]
  },
  {
   "cell_type": "code",
   "execution_count": 108,
   "id": "8b264099",
   "metadata": {},
   "outputs": [
    {
     "name": "stdout",
     "output_type": "stream",
     "text": [
      "Type_error\n"
     ]
    }
   ],
   "source": [
    "# WRITE FUNCTION TO CHECK DATA TYPE BEFORE PERFORMING MATHEMATICAL OPERATION\n",
    "\n",
    "# Method 1\n",
    "\n",
    "numb1 = 15\n",
    "numb2 = \"tree\"\n",
    "\n",
    "if type(numb1) ==int and type(numb2) ==int:\n",
    "    print(numb1+numb2)\n",
    "    \n",
    "else:\n",
    "    print(\"Type_error\")\n"
   ]
  },
  {
   "cell_type": "code",
   "execution_count": 123,
   "id": "91f74229",
   "metadata": {},
   "outputs": [
    {
     "name": "stdout",
     "output_type": "stream",
     "text": [
      "10\n"
     ]
    }
   ],
   "source": [
    "# method 2\n",
    "\n",
    "numb1 = 7\n",
    "numb2 = 3\n",
    "\n",
    "if isinstance(numb1,int) and isinstance(numb2,int):\n",
    "    print(numb1 + numb2)\n",
    "    \n",
    "else: \n",
    "    print(\"type_error\")"
   ]
  },
  {
   "cell_type": "code",
   "execution_count": 127,
   "id": "4488ecb3",
   "metadata": {},
   "outputs": [
    {
     "name": "stdout",
     "output_type": "stream",
     "text": [
      "10\n"
     ]
    }
   ],
   "source": [
    "# def function -FUNCTION TO CHECK DATA TYPE BEFORE PERFORMING MATHEMATICAL OPERATION\n",
    "\n",
    "def check_DataType(num1,num2):\n",
    "    if isinstance(numb1,int) and isinstance(numb2,int):\n",
    "        print(numb1 + numb2)\n",
    "        \n",
    "    else: \n",
    "        print(\"type_error\")  \n",
    "    \n",
    "\n",
    "check_DataType(3,4)"
   ]
  },
  {
   "cell_type": "code",
   "execution_count": 23,
   "id": "f66e9894",
   "metadata": {},
   "outputs": [
    {
     "data": {
      "text/plain": [
       "'Addition:98, subtraction:-56'"
      ]
     },
     "execution_count": 23,
     "metadata": {},
     "output_type": "execute_result"
    }
   ],
   "source": [
    "# ASSIGNMENT 1\n",
    "\n",
    "def calculate(number1, number2):\n",
    "       return f\"Addition:{number1 + number2}, subtraction:{number1 - number2}\"\n",
    "\n",
    "    \n",
    "calculate(21,77)  \n",
    "\n"
   ]
  },
  {
   "cell_type": "code",
   "execution_count": 29,
   "id": "ac331385",
   "metadata": {},
   "outputs": [
    {
     "data": {
      "text/plain": [
       "' employee Toluwa, employee 10000'"
      ]
     },
     "execution_count": 29,
     "metadata": {},
     "output_type": "execute_result"
    }
   ],
   "source": [
    "# ASSIGNMENT 2\n",
    "\n",
    "def employee(name, salary = 9000):\n",
    "    return f\" employee {name}, employee {salary}\"\n",
    "\n",
    "\n",
    "\n",
    "employee(\"Toluwa\", 10000)"
   ]
  },
  {
   "cell_type": "code",
   "execution_count": null,
   "id": "cf1d4fb0",
   "metadata": {},
   "outputs": [],
   "source": [
    "#Python Generator\n"
   ]
  },
  {
   "cell_type": "code",
   "execution_count": 41,
   "id": "1064fec7",
   "metadata": {},
   "outputs": [
    {
     "data": {
      "text/plain": [
       "[18, 16, 8, 6, 12, 22, 27]"
      ]
     },
     "execution_count": 41,
     "metadata": {},
     "output_type": "execute_result"
    }
   ],
   "source": [
    "#COMPREHENSION\n",
    "\n",
    "#Assignment 1\n",
    "\n",
    "List_of_numbers =[12,10,2,0,6,16,21]\n",
    "[num+6 for num in List_of_numbers]\n"
   ]
  },
  {
   "cell_type": "code",
   "execution_count": 48,
   "id": "1077cc81",
   "metadata": {},
   "outputs": [
    {
     "data": {
      "text/plain": [
       "[81, 100, 64, 121, 144]"
      ]
     },
     "execution_count": 48,
     "metadata": {},
     "output_type": "execute_result"
    }
   ],
   "source": [
    "#ASSIGNMENT 2 on comprehension\n",
    "\n",
    "List_of_numbers=[9,7,3,10,6,8,11,12,5]\n",
    "[num*num for num in List_of_numbers if num*num >50]\n"
   ]
  },
  {
   "cell_type": "code",
   "execution_count": 54,
   "id": "96177651",
   "metadata": {},
   "outputs": [
    {
     "ename": "TypeError",
     "evalue": "'<' not supported between instances of 'str' and 'int'",
     "output_type": "error",
     "traceback": [
      "\u001b[1;31m---------------------------------------------------------------------------\u001b[0m",
      "\u001b[1;31mTypeError\u001b[0m                                 Traceback (most recent call last)",
      "Cell \u001b[1;32mIn[54], line 12\u001b[0m\n\u001b[0;32m      1\u001b[0m \u001b[38;5;66;03m#Assignment 3 on comprehension\u001b[39;00m\n\u001b[0;32m      3\u001b[0m Vehicles_details\u001b[38;5;241m=\u001b[39m{\n\u001b[0;32m      4\u001b[0m     \u001b[38;5;124m\"\u001b[39m\u001b[38;5;124mbrand\u001b[39m\u001b[38;5;124m\"\u001b[39m:\u001b[38;5;124m\"\u001b[39m\u001b[38;5;124mToyota\u001b[39m\u001b[38;5;124m\"\u001b[39m, \u001b[38;5;124m\"\u001b[39m\u001b[38;5;124mweight_kg\u001b[39m\u001b[38;5;124m\"\u001b[39m:\u001b[38;5;241m2400\u001b[39m,\n\u001b[0;32m      5\u001b[0m     \u001b[38;5;124m\"\u001b[39m\u001b[38;5;124mbrand\u001b[39m\u001b[38;5;124m\"\u001b[39m:\u001b[38;5;124m\"\u001b[39m\u001b[38;5;124mMercedes\u001b[39m\u001b[38;5;124m\"\u001b[39m, \u001b[38;5;124m\"\u001b[39m\u001b[38;5;124mweight_kg\u001b[39m\u001b[38;5;124m\"\u001b[39m:\u001b[38;5;241m5100\u001b[39m,\n\u001b[1;32m   (...)\u001b[0m\n\u001b[0;32m      9\u001b[0m     \u001b[38;5;124m\"\u001b[39m\u001b[38;5;124mbrand\u001b[39m\u001b[38;5;124m\"\u001b[39m:\u001b[38;5;124m\"\u001b[39m\u001b[38;5;124mLexus\u001b[39m\u001b[38;5;124m\"\u001b[39m, \u001b[38;5;124m\"\u001b[39m\u001b[38;5;124mweight_kg\u001b[39m\u001b[38;5;124m\"\u001b[39m:\u001b[38;5;241m5000\u001b[39m,  \n\u001b[0;32m     10\u001b[0m }\n\u001b[1;32m---> 12\u001b[0m [weight_kg \u001b[38;5;28;01mfor\u001b[39;00m weight_kg \u001b[38;5;129;01min\u001b[39;00m Vehicles_details \u001b[38;5;28;01mif\u001b[39;00m weight_kg\u001b[38;5;241m<\u001b[39m\u001b[38;5;241m5000\u001b[39m]\n",
      "Cell \u001b[1;32mIn[54], line 12\u001b[0m, in \u001b[0;36m<listcomp>\u001b[1;34m(.0)\u001b[0m\n\u001b[0;32m      1\u001b[0m \u001b[38;5;66;03m#Assignment 3 on comprehension\u001b[39;00m\n\u001b[0;32m      3\u001b[0m Vehicles_details\u001b[38;5;241m=\u001b[39m{\n\u001b[0;32m      4\u001b[0m     \u001b[38;5;124m\"\u001b[39m\u001b[38;5;124mbrand\u001b[39m\u001b[38;5;124m\"\u001b[39m:\u001b[38;5;124m\"\u001b[39m\u001b[38;5;124mToyota\u001b[39m\u001b[38;5;124m\"\u001b[39m, \u001b[38;5;124m\"\u001b[39m\u001b[38;5;124mweight_kg\u001b[39m\u001b[38;5;124m\"\u001b[39m:\u001b[38;5;241m2400\u001b[39m,\n\u001b[0;32m      5\u001b[0m     \u001b[38;5;124m\"\u001b[39m\u001b[38;5;124mbrand\u001b[39m\u001b[38;5;124m\"\u001b[39m:\u001b[38;5;124m\"\u001b[39m\u001b[38;5;124mMercedes\u001b[39m\u001b[38;5;124m\"\u001b[39m, \u001b[38;5;124m\"\u001b[39m\u001b[38;5;124mweight_kg\u001b[39m\u001b[38;5;124m\"\u001b[39m:\u001b[38;5;241m5100\u001b[39m,\n\u001b[1;32m   (...)\u001b[0m\n\u001b[0;32m      9\u001b[0m     \u001b[38;5;124m\"\u001b[39m\u001b[38;5;124mbrand\u001b[39m\u001b[38;5;124m\"\u001b[39m:\u001b[38;5;124m\"\u001b[39m\u001b[38;5;124mLexus\u001b[39m\u001b[38;5;124m\"\u001b[39m, \u001b[38;5;124m\"\u001b[39m\u001b[38;5;124mweight_kg\u001b[39m\u001b[38;5;124m\"\u001b[39m:\u001b[38;5;241m5000\u001b[39m,  \n\u001b[0;32m     10\u001b[0m }\n\u001b[1;32m---> 12\u001b[0m [weight_kg \u001b[38;5;28;01mfor\u001b[39;00m weight_kg \u001b[38;5;129;01min\u001b[39;00m Vehicles_details \u001b[38;5;28;01mif\u001b[39;00m \u001b[43mweight_kg\u001b[49m\u001b[38;5;241;43m<\u001b[39;49m\u001b[38;5;241;43m5000\u001b[39;49m]\n",
      "\u001b[1;31mTypeError\u001b[0m: '<' not supported between instances of 'str' and 'int'"
     ]
    }
   ],
   "source": [
    "#Assignment 3 on comprehension\n",
    "\n",
    "Vehicles_details={\n",
    "    \"brand\":\"Toyota\", \"weight_kg\":2400,\n",
    "    \"brand\":\"Mercedes\", \"weight_kg\":5100,\n",
    "    \"brand\":\"GMC\", \"weight_kg\":2100,\n",
    "    \"brand\":\"Cheverolet\", \"weight_kg\":2200,\n",
    "    \"brand\":\"Hyundai\", \"weight_kg\":2500,\n",
    "    \"brand\":\"Lexus\", \"weight_kg\":5000,  \n",
    "}\n",
    "\n",
    "[weight_kg for weight_kg in Vehicles_details if weight_kg<5000]"
   ]
  },
  {
   "cell_type": "code",
   "execution_count": null,
   "id": "9da16f8c",
   "metadata": {},
   "outputs": [],
   "source": []
  }
 ],
 "metadata": {
  "kernelspec": {
   "display_name": "Python 3 (ipykernel)",
   "language": "python",
   "name": "python3"
  },
  "language_info": {
   "codemirror_mode": {
    "name": "ipython",
    "version": 3
   },
   "file_extension": ".py",
   "mimetype": "text/x-python",
   "name": "python",
   "nbconvert_exporter": "python",
   "pygments_lexer": "ipython3",
   "version": "3.10.9"
  }
 },
 "nbformat": 4,
 "nbformat_minor": 5
}
