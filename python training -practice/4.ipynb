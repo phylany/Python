{
 "cells": [
  {
   "cell_type": "code",
   "execution_count": 4,
   "id": "3441d438",
   "metadata": {},
   "outputs": [
    {
     "name": "stdout",
     "output_type": "stream",
     "text": [
      "what is your name ? Toluwa\n",
      "what is your age ? 13\n",
      "what is the name of your school ? General Byng\n",
      "\n",
      "My name is Toluwa, I am 13 years, and the name of my school is General Byng\n"
     ]
    }
   ],
   "source": [
    "user_name = input (\"what is your name ? \")\n",
    "user_age = input (\"what is your age ? \")\n",
    "user_school = input (\"what is the name of your school ? \")\n",
    "\n",
    "print()\n",
    "print(f\"My name is {user_name}, I am {user_age} years, and the name of my school is {user_school}\")\n"
   ]
  },
  {
   "cell_type": "code",
   "execution_count": null,
   "id": "57465b8e",
   "metadata": {},
   "outputs": [],
   "source": []
  }
 ],
 "metadata": {
  "kernelspec": {
   "display_name": "Python 3 (ipykernel)",
   "language": "python",
   "name": "python3"
  },
  "language_info": {
   "codemirror_mode": {
    "name": "ipython",
    "version": 3
   },
   "file_extension": ".py",
   "mimetype": "text/x-python",
   "name": "python",
   "nbconvert_exporter": "python",
   "pygments_lexer": "ipython3",
   "version": "3.10.9"
  }
 },
 "nbformat": 4,
 "nbformat_minor": 5
}
